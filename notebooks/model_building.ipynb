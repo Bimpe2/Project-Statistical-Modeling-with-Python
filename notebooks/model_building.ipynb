{
 "cells": [
  {
   "cell_type": "markdown",
   "metadata": {},
   "source": [
    "Build a regression model."
   ]
  },
  {
   "cell_type": "code",
   "execution_count": 1,
   "metadata": {},
   "outputs": [],
   "source": [
    "import numpy as np\n",
    "import pandas as pd\n",
    "import csv\n",
    "from sklearn import linear_model, datasets\n",
    "import statsmodels.api as sm\n",
    "\n"
   ]
  },
  {
   "cell_type": "code",
   "execution_count": 2,
   "metadata": {},
   "outputs": [
    {
     "data": {
      "text/html": [
       "<div>\n",
       "<style scoped>\n",
       "    .dataframe tbody tr th:only-of-type {\n",
       "        vertical-align: middle;\n",
       "    }\n",
       "\n",
       "    .dataframe tbody tr th {\n",
       "        vertical-align: top;\n",
       "    }\n",
       "\n",
       "    .dataframe thead th {\n",
       "        text-align: right;\n",
       "    }\n",
       "</style>\n",
       "<table border=\"1\" class=\"dataframe\">\n",
       "  <thead>\n",
       "    <tr style=\"text-align: right;\">\n",
       "      <th></th>\n",
       "      <th>latitude</th>\n",
       "      <th>longitude</th>\n",
       "      <th>empty_slots</th>\n",
       "      <th>free_bikes</th>\n",
       "      <th>total_bike_slots</th>\n",
       "      <th>count_of_restaurants</th>\n",
       "    </tr>\n",
       "  </thead>\n",
       "  <tbody>\n",
       "    <tr>\n",
       "      <th>0</th>\n",
       "      <td>54.604948</td>\n",
       "      <td>-5.921534</td>\n",
       "      <td>10</td>\n",
       "      <td>5</td>\n",
       "      <td>15</td>\n",
       "      <td>50</td>\n",
       "    </tr>\n",
       "    <tr>\n",
       "      <th>1</th>\n",
       "      <td>54.600337</td>\n",
       "      <td>-5.905516</td>\n",
       "      <td>9</td>\n",
       "      <td>6</td>\n",
       "      <td>15</td>\n",
       "      <td>42</td>\n",
       "    </tr>\n",
       "    <tr>\n",
       "      <th>2</th>\n",
       "      <td>54.595315</td>\n",
       "      <td>-5.949091</td>\n",
       "      <td>8</td>\n",
       "      <td>2</td>\n",
       "      <td>10</td>\n",
       "      <td>30</td>\n",
       "    </tr>\n",
       "    <tr>\n",
       "      <th>3</th>\n",
       "      <td>54.595840</td>\n",
       "      <td>-5.929881</td>\n",
       "      <td>9</td>\n",
       "      <td>5</td>\n",
       "      <td>14</td>\n",
       "      <td>50</td>\n",
       "    </tr>\n",
       "    <tr>\n",
       "      <th>4</th>\n",
       "      <td>54.580556</td>\n",
       "      <td>-5.920504</td>\n",
       "      <td>4</td>\n",
       "      <td>6</td>\n",
       "      <td>10</td>\n",
       "      <td>47</td>\n",
       "    </tr>\n",
       "  </tbody>\n",
       "</table>\n",
       "</div>"
      ],
      "text/plain": [
       "    latitude  longitude  empty_slots  free_bikes  total_bike_slots  \\\n",
       "0  54.604948  -5.921534           10           5                15   \n",
       "1  54.600337  -5.905516            9           6                15   \n",
       "2  54.595315  -5.949091            8           2                10   \n",
       "3  54.595840  -5.929881            9           5                14   \n",
       "4  54.580556  -5.920504            4           6                10   \n",
       "\n",
       "   count_of_restaurants  \n",
       "0                    50  \n",
       "1                    42  \n",
       "2                    30  \n",
       "3                    50  \n",
       "4                    47  "
      ]
     },
     "execution_count": 2,
     "metadata": {},
     "output_type": "execute_result"
    }
   ],
   "source": [
    "df_join = pd.read_csv(\"bikes_foursquare_join.csv\")\n",
    "df_join.head()"
   ]
  },
  {
   "cell_type": "code",
   "execution_count": 3,
   "metadata": {},
   "outputs": [],
   "source": [
    "X = pd.DataFrame(df_join['count_of_restaurants'])\n",
    "y = pd.Series(df_join['total_bike_slots'])\n"
   ]
  },
  {
   "cell_type": "code",
   "execution_count": null,
   "metadata": {},
   "outputs": [],
   "source": []
  },
  {
   "cell_type": "code",
   "execution_count": 4,
   "metadata": {},
   "outputs": [],
   "source": [
    "# I selected my output to be the total_bike_slots column, because of this I removed both the free_bikes and empty_slots from my input as they are not independent from my output data or column\n",
    "X = pd.DataFrame(df_join[['latitude', 'longitude', 'total_bike_slots', 'empty_slots', 'free_bikes']])\n",
    "y = pd.Series(df_join['count_of_restaurants'])"
   ]
  },
  {
   "cell_type": "code",
   "execution_count": 5,
   "metadata": {},
   "outputs": [],
   "source": [
    "#Including the constant column to my X variable\n",
    "X=sm.add_constant(X)\n",
    "lin_reg = sm.OLS(y,X)"
   ]
  },
  {
   "cell_type": "code",
   "execution_count": 6,
   "metadata": {},
   "outputs": [
    {
     "name": "stdout",
     "output_type": "stream",
     "text": [
      "                             OLS Regression Results                             \n",
      "================================================================================\n",
      "Dep. Variable:     count_of_restaurants   R-squared:                       0.106\n",
      "Model:                              OLS   Adj. R-squared:                  0.040\n",
      "Method:                   Least Squares   F-statistic:                     1.601\n",
      "Date:                  Wed, 22 May 2024   Prob (F-statistic):              0.187\n",
      "Time:                          01:08:40   Log-Likelihood:                -210.92\n",
      "No. Observations:                    59   AIC:                             431.8\n",
      "Df Residuals:                        54   BIC:                             442.2\n",
      "Df Model:                             4                                         \n",
      "Covariance Type:              nonrobust                                         \n",
      "====================================================================================\n",
      "                       coef    std err          t      P>|t|      [0.025      0.975]\n",
      "------------------------------------------------------------------------------------\n",
      "const              1.13e+04   6482.628      1.743      0.087   -1698.358    2.43e+04\n",
      "latitude          -206.1837    117.880     -1.749      0.086    -442.519      30.152\n",
      "longitude           -1.4920     61.279     -0.024      0.981    -124.349     121.365\n",
      "total_bike_slots    -0.2816      0.189     -1.490      0.142      -0.660       0.097\n",
      "empty_slots         -0.0563      0.182     -0.310      0.758      -0.421       0.308\n",
      "free_bikes          -0.2253      0.222     -1.016      0.314      -0.670       0.219\n",
      "==============================================================================\n",
      "Omnibus:                       36.706   Durbin-Watson:                   1.583\n",
      "Prob(Omnibus):                  0.000   Jarque-Bera (JB):               79.150\n",
      "Skew:                          -2.055   Prob(JB):                     6.50e-18\n",
      "Kurtosis:                       6.913   Cond. No.                     3.74e+16\n",
      "==============================================================================\n",
      "\n",
      "Notes:\n",
      "[1] Standard Errors assume that the covariance matrix of the errors is correctly specified.\n",
      "[2] The smallest eigenvalue is 1.4e-28. This might indicate that there are\n",
      "strong multicollinearity problems or that the design matrix is singular.\n"
     ]
    }
   ],
   "source": [
    "lin_model = lin_reg.fit()\n",
    "print_model = lin_model.summary()\n",
    "print(print_model)"
   ]
  },
  {
   "cell_type": "markdown",
   "metadata": {},
   "source": [
    "Provide model output and an interpretation of the results. "
   ]
  },
  {
   "attachments": {},
   "cell_type": "markdown",
   "metadata": {},
   "source": [
    "1. The Adjusted R-squared value is 0.040, meaning my multivariate model explains only 4% of the variations in data\n",
    "2. For all my data the P-value is greater than 0.05. This means that the relationship between my output and my variable is due to natural variation. \n",
    "3. What I can tell from this output is that the longitude has the strongest negative impact on the count of restaurants. Also all my variables had a negavive impact on the count of restaurant output data.\n"
   ]
  },
  {
   "cell_type": "markdown",
   "metadata": {},
   "source": [
    "# Stretch"
   ]
  },
  {
   "cell_type": "markdown",
   "metadata": {},
   "source": [
    "How can you turn the regression model into a classification model?"
   ]
  },
  {
   "attachments": {},
   "cell_type": "markdown",
   "metadata": {},
   "source": [
    "A good way to turn my model from a regression model to a classification model is to make the total count of restaurant the output or \"Y\". Then for all count of restaurants values that are 50, rename them as \"max\", and for count of restaurants values that are not 50, name them as \"not max\". Then pass them into the model to determine if the X avlues of Dataframe can predict if the y or output would be at max or not max."
   ]
  }
 ],
 "metadata": {
  "kernelspec": {
   "display_name": "base",
   "language": "python",
   "name": "python3"
  },
  "language_info": {
   "codemirror_mode": {
    "name": "ipython",
    "version": 3
   },
   "file_extension": ".py",
   "mimetype": "text/x-python",
   "name": "python",
   "nbconvert_exporter": "python",
   "pygments_lexer": "ipython3",
   "version": "3.11.7"
  },
  "vscode": {
   "interpreter": {
    "hash": "40d3a090f54c6569ab1632332b64b2c03c39dcf918b08424e98f38b5ae0af88f"
   }
  }
 },
 "nbformat": 4,
 "nbformat_minor": 4
}
